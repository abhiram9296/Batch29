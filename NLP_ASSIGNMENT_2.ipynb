{
  "nbformat": 4,
  "nbformat_minor": 0,
  "metadata": {
    "colab": {
      "provenance": []
    },
    "kernelspec": {
      "name": "python3",
      "display_name": "Python 3"
    },
    "language_info": {
      "name": "python"
    }
  },
  "cells": [
    {
      "cell_type": "markdown",
      "source": [
        "**1. Take your own text or take text as “Hello there! How are you doing today? NLP is fascinating.\"  Implement Tokenization in the text.        [CO1]**"
      ],
      "metadata": {
        "id": "gSoPdOQ9pLQW"
      }
    },
    {
      "cell_type": "code",
      "execution_count": 1,
      "metadata": {
        "id": "qyb8aTUSXvHH",
        "colab": {
          "base_uri": "https://localhost:8080/"
        },
        "outputId": "42230174-9eea-4962-d989-ca855e0912e0"
      },
      "outputs": [
        {
          "output_type": "stream",
          "name": "stdout",
          "text": [
            "Tokens :  ['Hello', 'there', '!', 'How', 'are', 'you', 'doing', 'today', '?', 'NLP', 'is', 'fascinating', '.']\n"
          ]
        }
      ],
      "source": [
        "import spacy\n",
        "nlp = spacy.load(\"en_core_web_sm\")\n",
        "text = \"Hello there! How are you doing today? NLP is fascinating.\"\n",
        "doc = nlp(text)\n",
        "tokens =[token.text for token in doc]\n",
        "print(\"Tokens : \",tokens)"
      ]
    },
    {
      "cell_type": "markdown",
      "source": [
        "**2. Take your own words or take words = [\"running\", \"ran\", \"runs\", \"easily\", \"fairly\"]. Implement Stemming in the text.      [CO1]**"
      ],
      "metadata": {
        "id": "ux0aH9TRpNcG"
      }
    },
    {
      "cell_type": "code",
      "source": [
        "from nltk.stem.porter import PorterStemmer\n",
        "stemmer = PorterStemmer()\n",
        "words = [\"running\", \"ran\", \"runs\", \"easily\", \"fairly\"]\n",
        "stemmed_words = [stemmer.stem(word) for word in words]\n",
        "print(\"Stemmed Words:\",stemmed_words)\n"
      ],
      "metadata": {
        "id": "RwXXbgnbpPeu",
        "colab": {
          "base_uri": "https://localhost:8080/"
        },
        "outputId": "1046c388-fd26-471f-c11c-d7a136396851"
      },
      "execution_count": 2,
      "outputs": [
        {
          "output_type": "stream",
          "name": "stdout",
          "text": [
            "Stemmed Words: ['run', 'ran', 'run', 'easili', 'fairli']\n"
          ]
        }
      ]
    },
    {
      "cell_type": "markdown",
      "source": [
        "\n",
        "**3. Implement representation of word on any text or take text as “NLP is fun and interesting.\", \"NLP involves linguistics and computer science.\"                      [CO1]**\n"
      ],
      "metadata": {
        "id": "C-KKTGuIpPyW"
      }
    },
    {
      "cell_type": "code",
      "source": [
        "from sklearn.feature_extraction.text import TfidfVectorizer\n",
        "text = [\"NLP is fun and interesting.\", \"NLP involves linguistics and computer science.\"]\n",
        "vectorizer = TfidfVectorizer()\n",
        "vectorizer.fit(text)\n",
        "vector = vectorizer.transform(text)\n",
        "print(\"Word Representation:\")\n",
        "print(vector.toarray())"
      ],
      "metadata": {
        "colab": {
          "base_uri": "https://localhost:8080/"
        },
        "id": "yS7IO4NLpbHW",
        "outputId": "544a7e2c-87e8-44b0-ef39-31d0a4e79613"
      },
      "execution_count": 3,
      "outputs": [
        {
          "output_type": "stream",
          "name": "stdout",
          "text": [
            "Word Representation:\n",
            "[[0.35520009 0.         0.49922133 0.49922133 0.         0.49922133\n",
            "  0.         0.35520009 0.        ]\n",
            " [0.31779954 0.44665616 0.         0.         0.44665616 0.\n",
            "  0.44665616 0.31779954 0.44665616]]\n"
          ]
        }
      ]
    },
    {
      "cell_type": "markdown",
      "source": [
        "**4. Implement Representation of Sentences on following or take any other sentence\n",
        "\"NLP is an interesting field.\", \"It involves processing natural language.\"                          [CO1]**\n"
      ],
      "metadata": {
        "id": "OT7oyboppb--"
      }
    },
    {
      "cell_type": "code",
      "source": [
        "from sklearn.feature_extraction.text import CountVectorizer\n",
        "text = [\"NLP is an interesting field.\", \"It involves processing natural language.\"]\n",
        "count_vect = CountVectorizer()\n",
        "count_vector = count_vect.fit_transform(text)\n",
        "print(\"Count Vector Representation:\\n\", count_vector.toarray())\n",
        "tfidf_vect = TfidfVectorizer()\n",
        "tfidf_vector = tfidf_vect.fit_transform(text)\n",
        "print(\"TF-IDF Vector Representation:\\n\", tfidf_vector.toarray())\n",
        "print(\"Feature Names:\", tfidf_vect.get_feature_names_out())\n"
      ],
      "metadata": {
        "colab": {
          "base_uri": "https://localhost:8080/"
        },
        "id": "oMBYZi2Lpkgd",
        "outputId": "42c88de3-2be6-48b0-efee-11ea0bf5cd27"
      },
      "execution_count": 7,
      "outputs": [
        {
          "output_type": "stream",
          "name": "stdout",
          "text": [
            "Count Vector Representation:\n",
            " [[1 1 1 0 1 0 0 0 1 0]\n",
            " [0 0 0 1 0 1 1 1 0 1]]\n",
            "TF-IDF Vector Representation:\n",
            " [[0.4472136 0.4472136 0.4472136 0.        0.4472136 0.        0.\n",
            "  0.        0.4472136 0.       ]\n",
            " [0.        0.        0.        0.4472136 0.        0.4472136 0.4472136\n",
            "  0.4472136 0.        0.4472136]]\n",
            "Feature Names: ['an' 'field' 'interesting' 'involves' 'is' 'it' 'language' 'natural'\n",
            " 'nlp' 'processing']\n"
          ]
        }
      ]
    }
  ]
}